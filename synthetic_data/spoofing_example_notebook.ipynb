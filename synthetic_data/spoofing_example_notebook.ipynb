{
 "cells": [
  {
   "cell_type": "code",
   "execution_count": null,
   "metadata": {},
   "outputs": [],
   "source": [
    "import sys\n",
    "import os"
   ]
  },
  {
   "cell_type": "code",
   "execution_count": null,
   "metadata": {},
   "outputs": [],
   "source": [
    "import pandas as pd\n",
    "import numpy as np"
   ]
  },
  {
   "cell_type": "code",
   "execution_count": null,
   "metadata": {},
   "outputs": [],
   "source": [
    "# Either hard code your path to the project, or set it as an environment variable\n",
    "build_project_path = os.environ['BUILD_PROJECT_PATH']"
   ]
  },
  {
   "cell_type": "code",
   "execution_count": null,
   "metadata": {},
   "outputs": [],
   "source": [
    "synthetic_data_path = os.path.join(build_project_path, 'synthetic_data')\n",
    "data_path = os.path.join(synthetic_data_path, 'data')"
   ]
  },
  {
   "cell_type": "code",
   "execution_count": null,
   "metadata": {},
   "outputs": [],
   "source": [
    "if synthetic_data_path not in sys.path:\n",
    "    sys.path.append(synthetic_data_path)"
   ]
  },
  {
   "cell_type": "code",
   "execution_count": null,
   "metadata": {},
   "outputs": [],
   "source": [
    "# model_name = 'Meta-Llama-3.3-70B-Instruct'\n",
    "# model_name = 'Meta-Llama-3.1-405B-Instruct'\n",
    "\n",
    "# model_name = 'gemini-2.0-flash'\n",
    "model_name = 'gemma-3-27b-it'"
   ]
  },
  {
   "cell_type": "code",
   "execution_count": null,
   "metadata": {},
   "outputs": [],
   "source": [
    "# from llm_requests import get_client\n",
    "\n",
    "# client = get_client()\n",
    "\n",
    "from openai import OpenAI\n",
    "\n",
    "client = OpenAI(\n",
    "    api_key=os.environ[\"GEMINI_API_KEY\"],\n",
    "    base_url=\"https://generativelanguage.googleapis.com/v1beta/openai/\"\n",
    ")\n"
   ]
  },
  {
   "cell_type": "code",
   "execution_count": null,
   "metadata": {},
   "outputs": [],
   "source": [
    "from llm_requests import async_make_api_call\n",
    "\n",
    "def generate_prompt(query_sentence):\n",
    "    # Spoofing the assistant response to encourage a certain format\n",
    "    return [\n",
    "        # {\"role\": \"system\", \"content\": \"You are a helpful assistant.\"},\n",
    "        {\"role\": \"user\", \"content\": \"\"\"\n",
    "            Classify the sentiment of the following sentences as either 'Positive' or 'Negative'. Reply with only a single word.\\\n",
    "            \"I actually didn't dislike the show, I thought it was intriguing\" ->\n",
    "        \"\"\"},\n",
    "        {\"role\": \"assistant\", \"content\": \"Positive\"},\n",
    "        {\"role\": \"user\", \"content\": \"\"\"\n",
    "            \"I can't say I'm a fan of his\" ->\n",
    "        \"\"\"},\n",
    "        {\"role\": \"assistant\", \"content\": \"Negative\"},\n",
    "        {\"role\": \"user\", \"content\": f\"\"\"\n",
    "            \"{query_sentence}\" ->\n",
    "        \"\"\"},\n",
    "    ]\n",
    "\n",
    "query_sentence = \"It wasn't the best\"\n",
    "\n",
    "example_prompt = generate_prompt(query_sentence)\n",
    "\n",
    "\n",
    "example_response = await async_make_api_call(client, model_name, example_prompt, perturbation_std=0.1)\n",
    "if example_response[0] is not None:\n",
    "    print(f\"Example response: {example_response[0].choices[0].message.content}\")"
   ]
  },
  {
   "cell_type": "code",
   "execution_count": null,
   "metadata": {},
   "outputs": [],
   "source": []
  }
 ],
 "metadata": {
  "kernelspec": {
   "display_name": ".build-project",
   "language": "python",
   "name": "python3"
  },
  "language_info": {
   "codemirror_mode": {
    "name": "ipython",
    "version": 3
   },
   "file_extension": ".py",
   "mimetype": "text/x-python",
   "name": "python",
   "nbconvert_exporter": "python",
   "pygments_lexer": "ipython3",
   "version": "3.12.10"
  }
 },
 "nbformat": 4,
 "nbformat_minor": 2
}
