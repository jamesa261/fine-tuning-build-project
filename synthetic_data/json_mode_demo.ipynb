{
 "cells": [
  {
   "cell_type": "code",
   "execution_count": 1,
   "id": "65a90b99",
   "metadata": {},
   "outputs": [],
   "source": [
    "import os\n",
    "from pydantic import BaseModel\n",
    "import json\n",
    "\n",
    "class Movie(BaseModel):\n",
    "    title: str\n",
    "    year: int\n",
    "    director: str\n",
    "    genres: list[str]\n"
   ]
  },
  {
   "cell_type": "code",
   "execution_count": 2,
   "id": "bbe4b1ec",
   "metadata": {},
   "outputs": [
    {
     "name": "stdout",
     "output_type": "stream",
     "text": [
      "{\n",
      "    \"title\": \"The Chronos Codex\",\n",
      "    \"year\": 2025,\n",
      "    \"director\": \"Dr. Aris Thorne\",\n",
      "    \"genres\": [\n",
      "        \"Science Fiction\",\n",
      "        \"Adventure\",\n",
      "        \"Mystery\",\n",
      "        \"Historical\"\n",
      "    ]\n",
      "}\n"
     ]
    }
   ],
   "source": [
    "from google import genai\n",
    "\n",
    "client = genai.Client(api_key=os.environ[\"GEMINI_API_KEY\"])\n",
    "\n",
    "response = client.models.generate_content(\n",
    "    model=\"gemini-2.5-flash\",\n",
    "    # model=\"gemma-3-27b-it\", # Will not work, Gemma doesn't support JSON mode\n",
    "    contents=\"Generate a fictional movie about a time-traveling historian.\",\n",
    "    config={\n",
    "        \"response_mime_type\": \"application/json\",\n",
    "        \"response_schema\": Movie,\n",
    "    }\n",
    ")\n",
    "\n",
    "if response and response.text:\n",
    "    print(json.dumps(json.loads(response.text), indent=4))"
   ]
  },
  {
   "cell_type": "code",
   "execution_count": 8,
   "id": "4f0922c7",
   "metadata": {},
   "outputs": [
    {
     "name": "stdout",
     "output_type": "stream",
     "text": [
      "title='Temporal Echoes' year=2025 director='Eleanor Vance' genres=['Science Fiction', 'Adventure', 'History']\n"
     ]
    }
   ],
   "source": [
    "from openai import OpenAI\n",
    "\n",
    "client = OpenAI(\n",
    "    api_key=os.environ[\"GEMINI_API_KEY\"],\n",
    "    base_url=\"https://generativelanguage.googleapis.com/v1beta/\",\n",
    ")\n",
    "\n",
    "response = client.chat.completions.parse(\n",
    "    model=\"gemini-2.5-flash\",\n",
    "    # model=\"gemma-3-27b-it\",  # Will not work, Gemma doesn't support JSON mode\n",
    "    messages=[\n",
    "        {\"role\": \"user\", \"content\": \"Generate a fictional movie about a time-traveling historian.\"}\n",
    "    ],\n",
    "    response_format=Movie,\n",
    ")\n",
    "\n",
    "if response and response.choices:\n",
    "    print(response.choices[0].message.parsed)"
   ]
  },
  {
   "cell_type": "code",
   "execution_count": null,
   "id": "84a8b9fa",
   "metadata": {},
   "outputs": [],
   "source": []
  }
 ],
 "metadata": {
  "kernelspec": {
   "display_name": ".build-project",
   "language": "python",
   "name": "python3"
  },
  "language_info": {
   "codemirror_mode": {
    "name": "ipython",
    "version": 3
   },
   "file_extension": ".py",
   "mimetype": "text/x-python",
   "name": "python",
   "nbconvert_exporter": "python",
   "pygments_lexer": "ipython3",
   "version": "3.12.10"
  }
 },
 "nbformat": 4,
 "nbformat_minor": 5
}
